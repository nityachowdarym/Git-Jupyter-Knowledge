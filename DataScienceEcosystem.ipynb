{
 "cells": [
  {
   "cell_type": "markdown",
   "id": "d3491ef1-9c8a-43e9-a814-38eb8af9540c",
   "metadata": {},
   "source": [
    "# Data Science Tools and Ecosystem"
   ]
  },
  {
   "cell_type": "markdown",
   "id": "eb2f73d3-44b2-4acb-a6ad-13c65ead1ba1",
   "metadata": {},
   "source": [
    "**Objectives:**"
   ]
  },
  {
   "cell_type": "markdown",
   "id": "b9d3a0f0-a042-4859-a1e4-04ea15488170",
   "metadata": {},
   "source": [
    "- List popular languages for Data Science\n",
    "- Commonly used libraries used by Data Scientists\n",
    "- Examples of evaluating arithmetic expressions in Python"
   ]
  },
  {
   "cell_type": "markdown",
   "id": "8f7c9524-9794-4b4c-99be-f18753ef0e65",
   "metadata": {},
   "source": [
    "In this notebook, Data Science Tools and Ecosystem are summarized."
   ]
  },
  {
   "cell_type": "markdown",
   "id": "fdd7c764-7737-4986-baef-57bbbb888d3b",
   "metadata": {},
   "source": [
    "Some of the popular languages that Data Scientists use are:"
   ]
  },
  {
   "cell_type": "markdown",
   "id": "bc7dcde6-8a3e-4c07-a4e4-d0d32cda752e",
   "metadata": {},
   "source": [
    "1. Python\n",
    "2. R.\n",
    "3. SQL.\n",
    "4. Java.\n",
    "5. JavaScript."
   ]
  },
  {
   "cell_type": "markdown",
   "id": "ff4e0012-074e-454d-8a98-a3618087b1d3",
   "metadata": {},
   "source": [
    "Some of the commonly used libraries used by Data Scientists include:"
   ]
  },
  {
   "cell_type": "markdown",
   "id": "420de5ed-6c68-402b-b6c8-ff9eb07c78a4",
   "metadata": {},
   "source": [
    "    1. TensorFlow.\n",
    "    2. NumPy.\n",
    "    3. SciPy.\n",
    "    4. Pandas.\n",
    "    5. Matplotlib.\n",
    "    6. Keras.\n",
    "    7. SciKit-Learn.\n",
    "    8. PyTorch."
   ]
  },
  {
   "cell_type": "markdown",
   "id": "56e9dfff-4806-48c8-b041-7111e5344792",
   "metadata": {},
   "source": [
    "|Data Science Tools|\n",
    "|------------------|\n",
    "|SAS.              |\n",
    "|Apache Spark      |\n",
    "|BigML             |\n"
   ]
  },
  {
   "cell_type": "markdown",
   "id": "0f4da342-3dc9-4cb2-8291-e807d2dbc429",
   "metadata": {},
   "source": [
    "### Below are a few examples of evaluating arithmetic expressions in Python"
   ]
  },
  {
   "cell_type": "markdown",
   "id": "d358e514-d647-45f4-902f-f423bc82cdaa",
   "metadata": {},
   "source": [
    " This a simple arithmetic expression to mutiply then add integers"
   ]
  },
  {
   "cell_type": "code",
   "execution_count": 1,
   "id": "5849efa3-1844-407b-8185-9ae7398d1bff",
   "metadata": {
    "tags": []
   },
   "outputs": [
    {
     "data": {
      "text/plain": [
       "17"
      ]
     },
     "execution_count": 1,
     "metadata": {},
     "output_type": "execute_result"
    }
   ],
   "source": [
    "(3*4)+5"
   ]
  },
  {
   "cell_type": "markdown",
   "id": "2415a712-6ddc-468a-8d58-e96634df6643",
   "metadata": {},
   "source": [
    "This will convert 200 minutes to hours by diving by 60"
   ]
  },
  {
   "cell_type": "code",
   "execution_count": 2,
   "id": "9e9c1b19-9422-42d2-a5ca-21de53d30f96",
   "metadata": {
    "tags": []
   },
   "outputs": [
    {
     "name": "stdout",
     "output_type": "stream",
     "text": [
      "0 days, 3.3333333333333335 hours, 0 mins. \n"
     ]
    }
   ],
   "source": [
    "days = 0\n",
    "hours = 0\n",
    "mins = 0\n",
    "\n",
    "time = 200\n",
    "#days = time / 1440\n",
    "leftover_minutes = time % 1440\n",
    "hours = leftover_minutes / 60\n",
    "#mins = time - (days*1440) - (hours*60)\n",
    "print(str(days) + \" days, \" + str(hours) + \" hours, \" + str(mins) +  \" mins. \")"
   ]
  },
  {
   "cell_type": "markdown",
   "id": "d255f77f-c7aa-41b0-a8c9-648f57e63880",
   "metadata": {},
   "source": [
    "## Author"
   ]
  },
  {
   "cell_type": "markdown",
   "id": "54170524-de33-4e3f-a1e1-e3bcba8aae6e",
   "metadata": {},
   "source": [
    "Nitya"
   ]
  },
  {
   "cell_type": "code",
   "execution_count": null,
   "id": "42d03284-b29c-4fd1-adb9-fe98ee5971a3",
   "metadata": {},
   "outputs": [],
   "source": []
  }
 ],
 "metadata": {
  "kernelspec": {
   "display_name": "Python",
   "language": "python",
   "name": "conda-env-python-py"
  },
  "language_info": {
   "codemirror_mode": {
    "name": "ipython",
    "version": 3
   },
   "file_extension": ".py",
   "mimetype": "text/x-python",
   "name": "python",
   "nbconvert_exporter": "python",
   "pygments_lexer": "ipython3",
   "version": "3.7.12"
  }
 },
 "nbformat": 4,
 "nbformat_minor": 5
}
